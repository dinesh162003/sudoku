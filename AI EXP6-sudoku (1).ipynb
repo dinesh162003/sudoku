{
 "cells": [
  {
   "cell_type": "code",
   "execution_count": 1,
   "metadata": {},
   "outputs": [],
   "source": [
    "%matplotlib inline\n",
    "import matplotlib.pyplot as plt\n",
    "import random\n",
    "import math\n",
    "import sys\n",
    "import time\n",
    "rows = 'ABCDEFGHI'\n",
    "cols = '123456789'\n"
   ]
  },
  {
   "cell_type": "code",
   "execution_count": 2,
   "metadata": {},
   "outputs": [],
   "source": [
    "def cross(a,b):\n",
    "    return [i+j for i in a for j in b]\n",
    "boxes=cross(rows,cols)\n",
    "ru=[cross(r,cols) for r in rows]\n",
    "cu=[cross(rows,c) for c in cols]\n",
    "su=[cross(rs,cs) for rs in ('ABC','DEF','GHI') for cs in('123','456','789')]\n",
    "ul=ru+cu+su\n",
    "units = dict((s, [u for u in ul if s in u])  for s in boxes)\n",
    "peers = dict((s, set(sum(units[s],[]))-set([s]))for s in boxes)"
   ]
  },
  {
   "cell_type": "code",
   "execution_count": 3,
   "metadata": {},
   "outputs": [],
   "source": [
    "def grid_values(grid):\n",
    "    assert len(grid) == 81, \"Input grid must be a string length of 81 (9x9)\"\n",
    "    boxes = cross(rows,cols)\n",
    "    return dict(zip(boxes,grid))"
   ]
  },
  {
   "cell_type": "code",
   "execution_count": 4,
   "metadata": {},
   "outputs": [],
   "source": [
    "def display(values):\n",
    "    width = 1+max(len(values[s]) for s in boxes)\n",
    "    line = '+'.join(['-'*(width*3)]*3)\n",
    "    for r in rows:\n",
    "        print(''.join(values[r+c].center (width)+('|' if c in '36' else '') for c in cols))\n",
    "        if r in 'CF': print(line)\n",
    "    return \n",
    "def grid_values_improved(grid):\n",
    "    values = []\n",
    "    all_digits = '123456789'\n",
    "    for c in grid:\n",
    "        if c == '.':\n",
    "            values.append(all_digits)\n",
    "        elif c in all_digits:\n",
    "                values.append(c)\n",
    "    assert len(values) == 81\n",
    "    boxes = cross(rows,cols)\n",
    "    return dict(zip(boxes,values))"
   ]
  },
  {
   "cell_type": "code",
   "execution_count": 5,
   "metadata": {},
   "outputs": [],
   "source": [
    "def elimination(values):\n",
    "    solved_values = [box for box in values.keys() if len(values[box])==1]\n",
    "    for box in solved_values:\n",
    "        digit = values[box]\n",
    "        for peer in peers[box]:\n",
    "            values[peer] = values[peer].replace(digit,'')\n",
    "    return values"
   ]
  },
  {
   "cell_type": "code",
   "execution_count": 6,
   "metadata": {},
   "outputs": [],
   "source": [
    "def only_choice(values):\n",
    "    for unit in ul:\n",
    "        for digit in '123456789':\n",
    "            dplaces = [box for box in unit if digit in values[box]]\n",
    "            if len(dplaces) == 1:\n",
    "                values[dplaces[0]] = digit\n",
    "    return values "
   ]
  },
  {
   "cell_type": "code",
   "execution_count": 7,
   "metadata": {},
   "outputs": [],
   "source": [
    "def reduce_puzzle(values):\n",
    "    stalled =False\n",
    "    while not stalled:\n",
    "        solved_values_before = len([box for box in values.keys() if len(values[box])==1])\n",
    "        elimination(values)\n",
    "        only_choice(values)\n",
    "        solved_values_after = len([box for box in values.keys() if len(values[box])==1])\n",
    "        stalled = solved_values_after == solved_values_before\n",
    "        if len([box for box in values.keys() if len(values[box])==1])==0:\n",
    "            return False\n",
    "    return values    "
   ]
  },
  {
   "cell_type": "code",
   "execution_count": 8,
   "metadata": {},
   "outputs": [],
   "source": [
    "def search(values):\n",
    "    values_reduced = reduce_puzzle(values)\n",
    "    if not values_reduced:\n",
    "        return False\n",
    "    else:\n",
    "        values=values_reduced\n",
    "    if len([box for box in values.keys() if len(values[box])==1])==81:\n",
    "        return values   \n",
    "    possibility_count_list = [(len(values[box]),box) for box in values.keys() if len(values[box])>1]    \n",
    "    possibility_count_list.sort()\n",
    "    for(_,t_box_min) in possibility_count_list:\n",
    "        for i_digit in values[t_box_min]:\n",
    "            new_values = values.copy()\n",
    "            new_values[t_box_min]=i_digit\n",
    "            new_values = search(new_values)\n",
    "            if new_values:\n",
    "                return new_values           \n",
    "    return values"
   ]
  },
  {
   "cell_type": "code",
   "execution_count": 9,
   "metadata": {},
   "outputs": [],
   "source": [
    "def search(values):\n",
    "    values_reduced = reduce_puzzle(values)\n",
    "    if not values_reduced:\n",
    "        return False\n",
    "    else:\n",
    "        values=values_reduced\n",
    "    if len([box for box in values.keys() if len(values[box])==1])==81:\n",
    "        return values  \n",
    "    possibility_count_list = [(len(values[box]),box) for box in values.keys() if len(values[box])>1]\n",
    "    possibility_count_list.sort()\n",
    "    for(_,t_box_min) in possibility_count_list:\n",
    "        for i_digit in values[t_box_min]:\n",
    "            new_values = values.copy()\n",
    "            new_values[t_box_min]=i_digit\n",
    "            new_values = search(new_values)\n",
    "            if new_values:\n",
    "                return new_values\n",
    "            \n",
    "    return values"
   ]
  },
  {
   "cell_type": "code",
   "execution_count": 12,
   "metadata": {},
   "outputs": [],
   "source": [
    "p='..8.42...2..3.9..879..5.3...2.......43.....81.......5...4.6..259..8.4..7...57.4..'"
   ]
  },
  {
   "cell_type": "code",
   "execution_count": 13,
   "metadata": {},
   "outputs": [
    {
     "name": "stdout",
     "output_type": "stream",
     "text": [
      ". . 8 |. 4 2 |. . . \n",
      "2 . . |3 . 9 |. . 8 \n",
      "7 9 . |. 5 . |3 . . \n",
      "------+------+------\n",
      ". 2 . |. . . |. . . \n",
      "4 3 . |. . . |. 8 1 \n",
      ". . . |. . . |. 5 . \n",
      "------+------+------\n",
      ". . 4 |. 6 . |. 2 5 \n",
      "9 . . |8 . 4 |. . 7 \n",
      ". . . |5 7 . |4 . . \n",
      "\n",
      "\n",
      "\n",
      "123456789 123456789     8     |123456789     4         2     |123456789 123456789 123456789 \n",
      "    2     123456789 123456789 |    3     123456789     9     |123456789 123456789     8     \n",
      "    7         9     123456789 |123456789     5     123456789 |    3     123456789 123456789 \n",
      "------------------------------+------------------------------+------------------------------\n",
      "123456789     2     123456789 |123456789 123456789 123456789 |123456789 123456789 123456789 \n",
      "    4         3     123456789 |123456789 123456789 123456789 |123456789     8         1     \n",
      "123456789 123456789 123456789 |123456789 123456789 123456789 |123456789     5     123456789 \n",
      "------------------------------+------------------------------+------------------------------\n",
      "123456789 123456789     4     |123456789     6     123456789 |123456789     2         5     \n",
      "    9     123456789 123456789 |    8     123456789     4     |123456789 123456789     7     \n",
      "123456789 123456789 123456789 |    5         7     123456789 |    4     123456789 123456789 \n",
      "\n",
      "\n",
      "\n",
      "3 6 8 |7 4 2 |5 1 9 \n",
      "2 4 5 |3 1 9 |6 7 8 \n",
      "7 9 1 |6 5 8 |3 4 2 \n",
      "------+------+------\n",
      "5 2 7 |1 8 6 |9 3 4 \n",
      "4 3 6 |2 9 5 |7 8 1 \n",
      "8 1 9 |4 3 7 |2 5 6 \n",
      "------+------+------\n",
      "1 7 4 |9 6 3 |8 2 5 \n",
      "9 5 3 |8 2 4 |1 6 7 \n",
      "6 8 2 |5 7 1 |4 9 3 \n",
      "\n",
      "\n",
      "0.019733190536499023 seconds\n"
     ]
    }
   ],
   "source": [
    "start_time = time.time()\n",
    "display(grid_values(p))\n",
    "p1=grid_values_improved(p)\n",
    "print(\"\\n\\n\")\n",
    "display(p1)\n",
    "result = search(p1)\n",
    "print(\"\\n\\n\")\n",
    "display(result)\n",
    "time_taken=time.time() - start_time\n",
    "print(\"\\n\\n{0} seconds\".format(time_taken))"
   ]
  },
  {
   "cell_type": "code",
   "execution_count": null,
   "metadata": {},
   "outputs": [],
   "source": []
  },
  {
   "cell_type": "code",
   "execution_count": null,
   "metadata": {},
   "outputs": [],
   "source": []
  }
 ],
 "metadata": {
  "kernelspec": {
   "display_name": "Python 3",
   "language": "python",
   "name": "python3"
  },
  "language_info": {
   "codemirror_mode": {
    "name": "ipython",
    "version": 3
   },
   "file_extension": ".py",
   "mimetype": "text/x-python",
   "name": "python",
   "nbconvert_exporter": "python",
   "pygments_lexer": "ipython3",
   "version": "3.8.5"
  }
 },
 "nbformat": 4,
 "nbformat_minor": 4
}
